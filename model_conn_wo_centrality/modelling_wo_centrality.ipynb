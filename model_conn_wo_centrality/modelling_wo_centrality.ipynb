{
 "cells": [
  {
   "cell_type": "markdown",
   "metadata": {},
   "source": [
    "## Frequencies here used for the features can be varied as a hyperparameter"
   ]
  },
  {
   "cell_type": "code",
   "execution_count": 9,
   "metadata": {},
   "outputs": [
    {
     "name": "stdout",
     "output_type": "stream",
     "text": [
      "(152, 1395)\n"
     ]
    }
   ],
   "source": [
    "import scipy.io\n",
    "import numpy as np\n",
    "import networkx as nx\n",
    "import pickle\n",
    "from sklearn.preprocessing import StandardScaler\n",
    "\n",
    "features = np.zeros((152,1395))\n",
    "\n",
    "for sub in range(1,153):\n",
    "    filename = \"resting_eeg_fconn_\"+str(sub).zfill(4)+'.mat'\n",
    "    \n",
    "    try:\n",
    "        mat_data = scipy.io.loadmat('../fconn_test_data/'+filename)\n",
    "    except:\n",
    "        continue\n",
    "\n",
    "    full_data = mat_data[\"fconn\"]\n",
    "\n",
    "    if(full_data.shape==(30,30,17)):\n",
    "        pass\n",
    "    else:\n",
    "        continue\n",
    "\n",
    "    # print(full_data[:,:,[0,1,2]].shape)\n",
    "    freqs = [0,1,2] # Vary this as a hyperparameter!\n",
    "    data = full_data[:,:,freqs]\n",
    "    n = data.shape[0]\n",
    "\n",
    "    data_final = np.zeros((int(n*(n+1)/2),len(freqs))) # (465,3)\n",
    "\n",
    "    for k in range(len(freqs)):\n",
    "        d = 0\n",
    "        for i in range(data.shape[0]):\n",
    "            for j in range(data.shape[1]):\n",
    "                if(j>=i):\n",
    "                    data_final[d,k] = data[i,j,k]\n",
    "                    # print(d,i,j)\n",
    "                    d+=1\n",
    "\n",
    "    data_final = data_final.flatten()\n",
    "    features[sub-1] = data_final\n",
    "\n",
    "\n",
    "print(features.shape)\n",
    "np.savetxt('features.csv', features, delimiter=',')"
   ]
  },
  {
   "cell_type": "code",
   "execution_count": 11,
   "metadata": {},
   "outputs": [
    {
     "name": "stdout",
     "output_type": "stream",
     "text": [
      "(152, 1395)\n"
     ]
    }
   ],
   "source": [
    "import numpy as np\n",
    "import matplotlib.pyplot as plt\n",
    "import pandas as pd\n",
    "\n",
    "data = np.loadtxt('features.csv', delimiter=',')\n",
    "\n",
    "print(data.shape)"
   ]
  },
  {
   "cell_type": "code",
   "execution_count": 13,
   "metadata": {},
   "outputs": [
    {
     "name": "stdout",
     "output_type": "stream",
     "text": [
      "[1, 2, 3, 4, 5, 6, 7, 8, 9, 10, 11, 12, 13, 15, 16, 17, 18, 19, 21, 22, 23, 24, 25, 26, 27, 29, 30, 31, 34, 35, 36, 38, 39, 43, 44, 45, 46, 47, 49, 50, 52, 55, 56, 57, 58, 59, 60, 63, 64, 65, 68, 69, 71, 72, 73, 74, 75, 76, 77, 78, 79, 80, 81, 82, 83, 84, 85, 87, 88, 89, 91, 92, 93, 94, 95, 96, 97, 100, 101, 103, 105, 106, 107, 110, 111, 112, 113, 114, 115, 116, 117, 118, 121, 123, 126, 127, 130, 131, 132, 133, 134, 135, 136, 137, 138, 139, 140, 141, 142, 143, 144, 145, 146, 147, 148, 150, 151, 152]\n"
     ]
    },
    {
     "data": {
      "text/plain": [
       "((118, 1395), (118,))"
      ]
     },
     "execution_count": 13,
     "metadata": {},
     "output_type": "execute_result"
    }
   ],
   "source": [
    "data_info = pd.read_csv('data_info.csv',usecols=[0,1])\n",
    "data_info = data_info.loc[:120]\n",
    "data_filt = data_info.dropna()\n",
    "\n",
    "labels = data_filt.values[:,1]\n",
    "y = labels\n",
    "\n",
    "dfX = pd.DataFrame(data)\n",
    "subjects_list = data_filt['BASIC_INFO_ID'].unique().tolist()\n",
    "sub_nums = [int(subject.split('-')[1]) for subject in subjects_list]\n",
    "print(sub_nums)\n",
    "\n",
    "arr = np.array(sub_nums)\n",
    "existing_indices = arr - 1\n",
    "dfXExisting = dfX.loc[existing_indices]\n",
    "X = dfXExisting.values\n",
    "\n",
    "X.shape,y.shape"
   ]
  },
  {
   "cell_type": "code",
   "execution_count": 17,
   "metadata": {},
   "outputs": [
    {
     "name": "stdout",
     "output_type": "stream",
     "text": [
      "Training set size: (94, 1395)\n",
      "Testing set size: (24, 1395)\n"
     ]
    }
   ],
   "source": [
    "from sklearn.model_selection import train_test_split\n",
    "import matplotlib.pyplot as plt\n",
    "\n",
    "X_train1, X_test1, y_train1, y_test1, indices_train, indices_test = train_test_split(X, y, np.arange(X.shape[0]), test_size=0.2, random_state=42)\n",
    "print(\"Training set size:\", X_train1.shape)\n",
    "print(\"Testing set size:\", X_test1.shape)"
   ]
  },
  {
   "cell_type": "code",
   "execution_count": 30,
   "metadata": {},
   "outputs": [
    {
     "name": "stdout",
     "output_type": "stream",
     "text": [
      "min_samples_split =  10\n",
      "max_depth =  3\n",
      "Average validation error:  10.175312091168852\n",
      "Median =  10.204478393829737\n",
      "Time:  5.896428108215332\n",
      "max_depth =  5\n",
      "Average validation error:  9.613674247083946\n",
      "Median =  9.401492750328384\n",
      "Time:  14.765964031219482\n",
      "max_depth =  8\n",
      "Average validation error:  10.231839240072489\n",
      "Median =  10.255528217720464\n",
      "Time:  26.46424698829651\n",
      "max_depth =  12\n",
      "Average validation error:  10.114964294433214\n",
      "Median =  10.350335652849441\n",
      "Time:  38.862876176834106\n",
      "min_samples_split =  20\n",
      "max_depth =  3\n",
      "Average validation error:  10.141418362905595\n",
      "Median =  10.467582903648427\n",
      "Time:  44.64819312095642\n",
      "max_depth =  5\n",
      "Average validation error:  9.737200362467922\n",
      "Median =  9.873861822162105\n",
      "Time:  53.54811429977417\n",
      "max_depth =  8\n",
      "Average validation error:  9.625948094165977\n",
      "Median =  9.477417927933644\n",
      "Time:  64.24083304405212\n",
      "max_depth =  12\n",
      "Average validation error:  10.273623613220092\n",
      "Median =  10.137931398555256\n",
      "Time:  74.85705709457397\n",
      "min_samples_split =  40\n",
      "max_depth =  3\n",
      "Average validation error:  9.735657932144168\n",
      "Median =  9.365811021383\n",
      "Time:  80.50658988952637\n",
      "max_depth =  5\n",
      "Average validation error:  9.925060086115197\n",
      "Median =  9.482244949429731\n",
      "Time:  88.57993507385254\n",
      "max_depth =  8\n",
      "Average validation error:  9.456725251236207\n",
      "Median =  8.793234394395942\n",
      "Time:  97.60985231399536\n",
      "max_depth =  12\n",
      "Average validation error:  10.010936765875433\n",
      "Median =  10.676442088516822\n",
      "Time:  106.2571120262146\n",
      "min_samples_split =  50\n",
      "max_depth =  3\n",
      "Average validation error:  10.053931599552586\n",
      "Median =  10.023845345192285\n",
      "Time:  111.86471199989319\n",
      "max_depth =  5\n",
      "Average validation error:  10.285097818250158\n",
      "Median =  10.121890288799158\n",
      "Time:  119.64715218544006\n",
      "max_depth =  8\n",
      "Average validation error:  9.565782297653069\n",
      "Median =  9.913765491599989\n",
      "Time:  128.19211316108704\n",
      "max_depth =  12\n",
      "Average validation error:  9.502041352642653\n",
      "Median =  8.86612607115929\n",
      "Time:  136.40345215797424\n"
     ]
    }
   ],
   "source": [
    "from sklearn.model_selection import KFold\n",
    "from sklearn.metrics import mean_absolute_error\n",
    "from sklearn.ensemble import RandomForestRegressor\n",
    "import time\n",
    "\n",
    "# Labels are stored in the variable 'labels'\n",
    "# Rest of the data features are stored in 'X'\n",
    "sigmas = 3\n",
    "min_split = [10,20,40,50]\n",
    "max_depths = [3,5,8,12]\n",
    "n_estimators = 10\n",
    "k = 4 # 0 means no augmentation\n",
    "\n",
    "start = time.time()\n",
    "\n",
    "tr_errors = []\n",
    "errors = []\n",
    "times = []\n",
    "fimps = []\n",
    "\n",
    "for m in min_split:\n",
    "    # print(\"sigma = \",sigma)\n",
    "    print(\"min_samples_split = \",m)\n",
    "    for d in max_depths:\n",
    "        print(\"max_depth = \",d)\n",
    "        rfgs = RandomForestRegressor(n_estimators=n_estimators,max_depth=d,min_samples_split=m)\n",
    "        kf = KFold(n_splits=8, shuffle=True)\n",
    "\n",
    "        fold_errors = []\n",
    "        fold_tr_errors = []\n",
    "        fold_fimps = []\n",
    "        \n",
    "        for train_index, val_index in kf.split(X_train1):\n",
    "            X_train2, X_val2 = X_train1[train_index], X_train1[val_index]\n",
    "            y_train2, y_val2 = y_train1[train_index], y_train1[val_index]\n",
    "\n",
    "            X_aug = []\n",
    "            y_aug = []\n",
    "\n",
    "            X_aug.append(X_train2)\n",
    "            y_aug.append(y_train2)\n",
    "\n",
    "            for _ in range(k):\n",
    "                noisex = np.random.normal(loc=0, scale=sigmas, size=X_train2.shape)\n",
    "                noisey = np.random.normal(loc=0, scale=sigmas, size=y_train2.shape)\n",
    "                X_aug.append(X_train2 + noisex)\n",
    "                y_aug.append(y_train2 + noisey)\n",
    "\n",
    "            X_aug = np.concatenate(X_aug, axis=0)\n",
    "            y_aug = np.concatenate(y_aug, axis=0)\n",
    "            \n",
    "            rfgs.fit(X_aug, y_aug)\n",
    "\n",
    "            # print(rfgs.feature_importances_)\n",
    "            fold_fimps.append(rfgs.feature_importances_)\n",
    "\n",
    "            # print(\"Train error: \",mean_absolute_error(y_aug, rfgs.predict(X_aug)))\n",
    "            fold_tr_errors.append(mean_absolute_error(y_aug, rfgs.predict(X_aug)))\n",
    "            \n",
    "            y_pred = rfgs.predict(X_val2)\n",
    "            fold_error = mean_absolute_error(y_val2, y_pred)\n",
    "            \n",
    "            fold_errors.append(fold_error)\n",
    "            # print(\"Validation error: \",fold_error)\n",
    "\n",
    "        # for i, error in enumerate(fold_errors):\n",
    "        #     print(f\"Iteration {i+1}: Validation Error = {error}\")\n",
    "\n",
    "        avg_val_err = np.mean(fold_errors)\n",
    "        print(\"Average validation error: \", avg_val_err)\n",
    "        print(\"Median = \", np.median(fold_errors))\n",
    "        end = time.time()\n",
    "        print(\"Time: \",end-start)\n",
    "        times.append(end-start)\n",
    "        fimps.append(fold_fimps)\n",
    "        errors.append((m,d,avg_val_err))\n",
    "        tr_errors.append((m,d,np.mean(fold_tr_errors)))\n",
    "\n"
   ]
  },
  {
   "cell_type": "code",
   "execution_count": 31,
   "metadata": {},
   "outputs": [
    {
     "data": {
      "text/plain": [
       "<BarContainer object of 1395 artists>"
      ]
     },
     "execution_count": 31,
     "metadata": {},
     "output_type": "execute_result"
    },
    {
     "data": {
      "image/png": "[encoded data removed]",
      "text/plain": [
       "<Figure size 640x480 with 1 Axes>"
      ]
     },
     "metadata": {},
     "output_type": "display_data"
    }
   ],
   "source": [
    "plt.barh(range(X_train1.shape[1]), fold_fimps[0])"
   ]
  },
  {
   "cell_type": "code",
   "execution_count": 32,
   "metadata": {},
   "outputs": [
    {
     "data": {
      "text/plain": [
       "[(10, 3, 10.175312091168852),\n",
       " (10, 5, 9.613674247083946),\n",
       " (10, 8, 10.231839240072489),\n",
       " (10, 12, 10.114964294433214),\n",
       " (20, 3, 10.141418362905595),\n",
       " (20, 5, 9.737200362467922),\n",
       " (20, 8, 9.625948094165977),\n",
       " (20, 12, 10.273623613220092),\n",
       " (40, 3, 9.735657932144168),\n",
       " (40, 5, 9.925060086115197),\n",
       " (40, 8, 9.456725251236207),\n",
       " (40, 12, 10.010936765875433),\n",
       " (50, 3, 10.053931599552586),\n",
       " (50, 5, 10.285097818250158),\n",
       " (50, 8, 9.565782297653069),\n",
       " (50, 12, 9.502041352642653)]"
      ]
     },
     "execution_count": 32,
     "metadata": {},
     "output_type": "execute_result"
    }
   ],
   "source": [
    "errors"
   ]
  },
  {
   "cell_type": "code",
   "execution_count": 27,
   "metadata": {},
   "outputs": [
    {
     "data": {
      "text/plain": [
       "[(10, 3, 8.392451435301613),\n",
       " (10, 5, 6.650530837106743),\n",
       " (10, 8, 4.93719843244516),\n",
       " (10, 12, 4.734638607086649),\n",
       " (20, 3, 8.513536578134325),\n",
       " (20, 5, 6.810280771342357),\n",
       " (20, 8, 5.86342678140706),\n",
       " (20, 12, 5.7106597657187566),\n",
       " (40, 3, 8.623434004593939),\n",
       " (40, 5, 7.453284492529486),\n",
       " (40, 8, 7.0972738312133465),\n",
       " (40, 12, 7.048033335668806),\n",
       " (50, 3, 8.741151587030602),\n",
       " (50, 5, 7.744167246152039),\n",
       " (50, 8, 7.493912570818326),\n",
       " (50, 12, 7.5143919808876785)]"
      ]
     },
     "execution_count": 27,
     "metadata": {},
     "output_type": "execute_result"
    }
   ],
   "source": [
    "tr_errors"
   ]
  },
  {
   "cell_type": "code",
   "execution_count": null,
   "metadata": {},
   "outputs": [],
   "source": []
  }
 ],
 "metadata": {
  "interpreter": {
   "hash": "8ff1e3bcc722a39238b6a7f93d00740f2997fe4fe04527d6796cad45df3c0deb"
  },
  "kernelspec": {
   "display_name": "Python 3.11.3 64-bit ('mne': conda)",
   "name": "python3"
  },
  "language_info": {
   "codemirror_mode": {
    "name": "ipython",
    "version": 3
   },
   "file_extension": ".py",
   "mimetype": "text/x-python",
   "name": "python",
   "nbconvert_exporter": "python",
   "pygments_lexer": "ipython3",
   "version": "3.11.3"
  },
  "orig_nbformat": 4
 },
 "nbformat": 4,
 "nbformat_minor": 2
}