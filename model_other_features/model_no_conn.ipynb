{
 "cells": [
  {
   "cell_type": "code",
   "execution_count": 9,
   "metadata": {},
   "outputs": [
    {
     "name": "stdout",
     "output_type": "stream",
     "text": [
      "ampcont 3\n",
      "ampcont 54\n",
      "ampcont 96\n",
      "ampcont 119\n",
      "[[3.97920074e+01 2.12264364e+01 2.16154809e-03 ... 8.98532228e-01\n",
      "  2.05485651e+00 1.28650608e+00]\n",
      " [1.38327149e+01 9.11106752e+00 1.87682007e-03 ... 7.29207549e-01\n",
      "  2.09297820e+00 1.52089119e+00]\n",
      " [0.00000000e+00 0.00000000e+00 0.00000000e+00 ... 0.00000000e+00\n",
      "  0.00000000e+00 0.00000000e+00]\n",
      " ...\n",
      " [1.03150182e+02 5.33565509e+01 1.53086097e-03 ... 1.32298954e+00\n",
      "  1.09994280e+00 1.09762886e+00]\n",
      " [1.34558911e+02 3.67427653e+01 5.03998259e-03 ... 1.18682005e+00\n",
      "  2.22352996e+00 7.21937739e-01]\n",
      " [2.23882215e+01 1.31484945e+01 4.03636286e-03 ... 8.63666487e-01\n",
      "  1.43424475e+00 1.39845715e+00]]\n",
      "[[-0.02331354  0.1861478  -0.05095686 ... -0.30849883  1.09503151\n",
      "   0.4155161 ]\n",
      " [-0.41321265 -0.47125196 -0.14117812 ... -0.94260597  1.14321724\n",
      "   0.86199673]\n",
      " [-0.62097498 -0.96563341 -0.73588271 ... -3.67342887 -1.50230289\n",
      "  -2.03515159]\n",
      " ...\n",
      " [ 0.92830312  1.92958044 -0.25080155 ...  1.28105924 -0.11197746\n",
      "   0.05572357]\n",
      " [ 1.40005078  1.02808922  0.8611275  ...  0.77111559  1.30823439\n",
      "  -0.65993112]\n",
      " [-0.28471206 -0.25217456  0.54311232 ... -0.43906819  0.31057951\n",
      "   0.62877189]]\n"
     ]
    }
   ],
   "source": [
    "import scipy.io\n",
    "import numpy as np\n",
    "import networkx as nx\n",
    "import pickle\n",
    "from sklearn.preprocessing import StandardScaler\n",
    "\n",
    "num_conn = 0\n",
    "num_amp = 900\n",
    "num_psd = 450\n",
    "num_relp = 210\n",
    "num_total = num_conn+num_amp+num_psd+num_relp\n",
    "subjects = 152\n",
    "\n",
    "features = np.zeros((subjects,num_total))\n",
    "amp_indices = range(num_conn,num_conn+num_amp)\n",
    "psd_indices = range(num_conn+num_amp,num_conn+num_amp+num_psd)\n",
    "relp_indices = range(num_conn+num_amp+num_psd,num_conn+num_amp+num_psd+num_relp)\n",
    "\n",
    "for sub in range(1,subjects+1):\n",
    "    filename = \"resting_eeg_fconn_\"+str(sub).zfill(4)+'.mat'\n",
    "\n",
    "    try:\n",
    "        amp_data = scipy.io.loadmat(\"exports/amp/sub-\" + str(sub).zfill(4) + \"_amp_data.mat\")['magFeatures']\n",
    "    except:\n",
    "        print(\"ampcont\",sub)\n",
    "        continue\n",
    "\n",
    "    try:\n",
    "        psd_data = scipy.io.loadmat(\"exports/psd/sub-\" + str(sub).zfill(4) + \"_psd_data.mat\")['psdFeatures']\n",
    "    except:\n",
    "        print(\"psdcont\",sub)\n",
    "        continue\n",
    "\n",
    "    try:\n",
    "        rel_power = scipy.io.loadmat(\"exports/rel_power/sub-\" + str(sub).zfill(4) + \"_rel_power.mat\")['relPowFeatures']\n",
    "    except:\n",
    "        print(\"relcont\",sub)\n",
    "        continue\n",
    "\n",
    "    amp_data_final = amp_data.flatten()\n",
    "    psd_data_final = psd_data.flatten()\n",
    "    relp_data_final = rel_power.flatten()\n",
    "\n",
    "    if(amp_data_final.shape==(900,) and psd_data_final.shape==(450,) and relp_data_final.shape==(210,)):\n",
    "        pass\n",
    "    else:\n",
    "        continue\n",
    "\n",
    "    # print(amp_data_final.shape,psd_data_final.shape,relp_data_final.shape)\n",
    "\n",
    "    # print(sub)\n",
    "    features[sub-1][amp_indices] = amp_data_final\n",
    "    features[sub-1][psd_indices] = psd_data_final\n",
    "    features[sub-1][relp_indices] = relp_data_final\n",
    "\n",
    "print(features)\n",
    "scaler = StandardScaler()\n",
    "scaled = scaler.fit_transform(features)\n",
    "features = scaled\n",
    "print(features)\n",
    "np.savetxt('features.csv', features, delimiter=',')"
   ]
  },
  {
   "cell_type": "code",
   "execution_count": 10,
   "metadata": {},
   "outputs": [
    {
     "name": "stdout",
     "output_type": "stream",
     "text": [
      "(152, 1560)\n"
     ]
    }
   ],
   "source": [
    "import numpy as np\n",
    "import matplotlib.pyplot as plt\n",
    "import pandas as pd\n",
    "\n",
    "data = np.loadtxt('features.csv', delimiter=',')\n",
    "\n",
    "print(data.shape)"
   ]
  },
  {
   "cell_type": "code",
   "execution_count": 11,
   "metadata": {},
   "outputs": [
    {
     "name": "stdout",
     "output_type": "stream",
     "text": [
      "[1, 2, 3, 4, 5, 6, 7, 8, 9, 10, 11, 12, 13, 15, 16, 17, 18, 19, 21, 22, 23, 24, 25, 26, 27, 29, 30, 31, 34, 35, 36, 38, 39, 43, 44, 45, 46, 47, 49, 50, 52, 55, 56, 57, 58, 59, 60, 63, 64, 65, 68, 69, 71, 72, 73, 74, 75, 76, 77, 78, 79, 80, 81, 82, 83, 84, 85, 87, 88, 89, 91, 92, 93, 94, 95, 96, 97, 100, 101, 103, 105, 106, 107, 110, 111, 112, 113, 114, 115, 116, 117, 118, 121, 123, 126, 127, 130, 131, 132, 133, 134, 135, 136, 137, 138, 139, 140, 141, 142, 143, 144, 145, 146, 147, 148, 150, 151, 152]\n"
     ]
    },
    {
     "data": {
      "text/plain": [
       "((118, 1560), (118,))"
      ]
     },
     "execution_count": 11,
     "metadata": {},
     "output_type": "execute_result"
    }
   ],
   "source": [
    "data_info = pd.read_csv('data_info.csv',usecols=[0,1])\n",
    "data_info = data_info.loc[:120]\n",
    "data_filt = data_info.dropna()\n",
    "\n",
    "labels = data_filt.values[:,1]\n",
    "y = labels\n",
    "\n",
    "dfX = pd.DataFrame(data)\n",
    "subjects_list = data_filt['BASIC_INFO_ID'].unique().tolist()\n",
    "sub_nums = [int(subject.split('-')[1]) for subject in subjects_list]\n",
    "print(sub_nums)\n",
    "\n",
    "arr = np.array(sub_nums)\n",
    "existing_indices = arr - 1\n",
    "dfXExisting = dfX.loc[existing_indices]\n",
    "X = dfXExisting.values\n",
    "\n",
    "X.shape,y.shape"
   ]
  },
  {
   "cell_type": "code",
   "execution_count": 12,
   "metadata": {},
   "outputs": [
    {
     "name": "stdout",
     "output_type": "stream",
     "text": [
      "Training set size: (94, 1560)\n",
      "Testing set size: (24, 1560)\n"
     ]
    }
   ],
   "source": [
    "from sklearn.model_selection import train_test_split\n",
    "import matplotlib.pyplot as plt\n",
    "\n",
    "X_train1, X_test1, y_train1, y_test1, indices_train, indices_test = train_test_split(X, y, np.arange(X.shape[0]), test_size=0.2, random_state=42)\n",
    "print(\"Training set size:\", X_train1.shape)\n",
    "print(\"Testing set size:\", X_test1.shape)"
   ]
  },
  {
   "cell_type": "code",
   "execution_count": 18,
   "metadata": {},
   "outputs": [
    {
     "name": "stdout",
     "output_type": "stream",
     "text": [
      "min_samples_split =  20\n",
      "max_depth =  8\n",
      "Average validation error:  9.325149743125586\n",
      "Median =  8.892289775840922\n",
      "Time:  23.555392026901245\n"
     ]
    }
   ],
   "source": [
    "from sklearn.model_selection import KFold\n",
    "from sklearn.metrics import mean_absolute_error\n",
    "from sklearn.ensemble import RandomForestRegressor\n",
    "import time\n",
    "\n",
    "# Labels are stored in the variable 'labels'\n",
    "# Rest of the data features are stored in 'X'\n",
    "sigmas = 3\n",
    "min_split = [20]\n",
    "max_depths = [8]\n",
    "n_estimators = 20\n",
    "k = 4 # 0 means no augmentation\n",
    "\n",
    "start = time.time()\n",
    "\n",
    "tr_errors = []\n",
    "errors = []\n",
    "times = []\n",
    "fimps = []\n",
    "\n",
    "for m in min_split:\n",
    "    # print(\"sigma = \",sigma)\n",
    "    print(\"min_samples_split = \",m)\n",
    "    for d in max_depths:\n",
    "        print(\"max_depth = \",d)\n",
    "        rfgs = RandomForestRegressor(n_estimators=n_estimators,max_depth=d,min_samples_split=m)\n",
    "        kf = KFold(n_splits=8, shuffle=True)\n",
    "\n",
    "        fold_errors = []\n",
    "        fold_tr_errors = []\n",
    "        fold_fimps = []\n",
    "        \n",
    "        for train_index, val_index in kf.split(X_train1):\n",
    "            X_train2, X_val2 = X_train1[train_index], X_train1[val_index]\n",
    "            y_train2, y_val2 = y_train1[train_index], y_train1[val_index]\n",
    "\n",
    "            X_aug = []\n",
    "            y_aug = []\n",
    "\n",
    "            X_aug.append(X_train2)\n",
    "            y_aug.append(y_train2)\n",
    "\n",
    "            for _ in range(k):\n",
    "                noisex = np.random.normal(loc=0, scale=sigmas, size=X_train2.shape)\n",
    "                noisey = np.random.normal(loc=0, scale=sigmas, size=y_train2.shape)\n",
    "                X_aug.append(X_train2 + noisex)\n",
    "                y_aug.append(y_train2 + noisey)\n",
    "\n",
    "            X_aug = np.concatenate(X_aug, axis=0)\n",
    "            y_aug = np.concatenate(y_aug, axis=0)\n",
    "            \n",
    "            rfgs.fit(X_aug, y_aug)\n",
    "\n",
    "            # print(rfgs.feature_importances_)\n",
    "            fold_fimps.append(rfgs.feature_importances_)\n",
    "\n",
    "            # print(\"Train error: \",mean_absolute_error(y_aug, rfgs.predict(X_aug)))\n",
    "            fold_tr_errors.append(mean_absolute_error(y_aug, rfgs.predict(X_aug)))\n",
    "            \n",
    "            y_pred = rfgs.predict(X_val2)\n",
    "            fold_error = mean_absolute_error(y_val2, y_pred)\n",
    "            \n",
    "            fold_errors.append(fold_error)\n",
    "            # print(\"Validation error: \",fold_error)\n",
    "\n",
    "        # for i, error in enumerate(fold_errors):\n",
    "        #     print(f\"Iteration {i+1}: Validation Error = {error}\")\n",
    "\n",
    "        avg_val_err = np.mean(fold_errors)\n",
    "        print(\"Average validation error: \", avg_val_err)\n",
    "        print(\"Median = \", np.median(fold_errors))\n",
    "        end = time.time()\n",
    "        print(\"Time: \",end-start)\n",
    "        times.append(end-start)\n",
    "        fimps.append(fold_fimps)\n",
    "        errors.append((m,d,avg_val_err))\n",
    "        tr_errors.append((m,d,np.mean(fold_tr_errors)))"
   ]
  },
  {
   "cell_type": "code",
   "execution_count": 19,
   "metadata": {},
   "outputs": [
    {
     "data": {
      "text/plain": [
       "[9.00712970459672,\n",
       " 8.609423528221123,\n",
       " 7.060381825335757,\n",
       " 15.086752948760191,\n",
       " 7.6859389700111675,\n",
       " 8.777449847085125,\n",
       " 9.149626762967442,\n",
       " 9.224494358027163]"
      ]
     },
     "execution_count": 19,
     "metadata": {},
     "output_type": "execute_result"
    }
   ],
   "source": [
    "fold_errors"
   ]
  },
  {
   "cell_type": "code",
   "execution_count": 21,
   "metadata": {},
   "outputs": [
    {
     "data": {
      "text/plain": [
       "[5.37431003484711,\n",
       " 5.151716114074095,\n",
       " 5.240250796810722,\n",
       " 4.85572858009997,\n",
       " 5.282541137248824,\n",
       " 5.047668278826557,\n",
       " 5.292683319797446,\n",
       " 5.310730672656165]"
      ]
     },
     "execution_count": 21,
     "metadata": {},
     "output_type": "execute_result"
    }
   ],
   "source": [
    "fold_tr_errors"
   ]
  },
  {
   "cell_type": "code",
   "execution_count": 24,
   "metadata": {},
   "outputs": [
    {
     "data": {
      "text/plain": [
       "<BarContainer object of 1560 artists>"
      ]
     },
     "execution_count": 24,
     "metadata": {},
     "output_type": "execute_result"
    },
    {
     "data": {
      "image/png": "[encoded data removed]",
      "text/plain": [
       "<Figure size 640x480 with 1 Axes>"
      ]
     },
     "metadata": {},
     "output_type": "display_data"
    }
   ],
   "source": [
    "plt.barh(range(X_train2.shape[1]), fold_fimps[0])"
   ]
  },
  {
   "cell_type": "code",
   "execution_count": null,
   "metadata": {},
   "outputs": [],
   "source": []
  }
 ],
 "metadata": {
  "interpreter": {
   "hash": "8ff1e3bcc722a39238b6a7f93d00740f2997fe4fe04527d6796cad45df3c0deb"
  },
  "kernelspec": {
   "display_name": "Python 3.11.3 64-bit ('mne': conda)",
   "name": "python3"
  },
  "language_info": {
   "codemirror_mode": {
    "name": "ipython",
    "version": 3
   },
   "file_extension": ".py",
   "mimetype": "text/x-python",
   "name": "python",
   "nbconvert_exporter": "python",
   "pygments_lexer": "ipython3",
   "version": "3.11.3"
  },
  "orig_nbformat": 4
 },
 "nbformat": 4,
 "nbformat_minor": 2
}